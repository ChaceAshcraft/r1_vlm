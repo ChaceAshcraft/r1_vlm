{
 "cells": [
  {
   "cell_type": "code",
   "execution_count": 6,
   "metadata": {},
   "outputs": [],
   "source": [
    "# imports here\n",
    "import json\n",
    "from tqdm import tqdm"
   ]
  },
  {
   "cell_type": "code",
   "execution_count": 11,
   "metadata": {},
   "outputs": [
    {
     "name": "stderr",
     "output_type": "stream",
     "text": [
      "Loading dataset as list: 21108it [00:00, 52072.20it/s]\n",
      "Sorting dataset by question_id: 100%|██████████████████████████████████████████████████████████████████████████████████████████████████████████████████████████████████████| 21108/21108 [00:00<00:00, 1889276.13it/s]\n"
     ]
    }
   ],
   "source": [
    "def load_dataset(path:str =  \"/millcreek/home/sunil/r1_vlm_bumbershoot2/r1_vlm/src/r1_vlm/environments/simple_aokvqa_env/aokvqa_examples.jsonl\"):\n",
    "    dataset_list = []\n",
    "    with open(path, \"r\") as f:\n",
    "        for line in tqdm(f, desc=\"Loading dataset as list\"):\n",
    "            dataset_list.append(json.loads(line))\n",
    "    \n",
    "    # sort the data by the question_id key\n",
    "    dataset_dict = {}\n",
    "    \n",
    "    for example in tqdm(dataset_list, desc=\"Sorting dataset by question_id\"):\n",
    "        question_id = example[\"question_id\"]\n",
    "        if question_id not in dataset_dict:\n",
    "            dataset_dict[question_id] = []\n",
    "        dataset_dict[question_id].append(example)\n",
    "    \n",
    "    return dataset_dict\n",
    "\n",
    "\n",
    "dataset = load_dataset()"
   ]
  },
  {
   "cell_type": "code",
   "execution_count": 14,
   "metadata": {},
   "outputs": [
    {
     "name": "stdout",
     "output_type": "stream",
     "text": [
      "56ajK7Gvq7qFkdoofbuuLW\n",
      "12\n"
     ]
    }
   ],
   "source": [
    "for question_id, examples in dataset.items():\n",
    "    "
   ]
  }
 ],
 "metadata": {
  "kernelspec": {
   "display_name": "Python 3 (ipykernel)",
   "language": "python",
   "name": "python3"
  },
  "language_info": {
   "codemirror_mode": {
    "name": "ipython",
    "version": 3
   },
   "file_extension": ".py",
   "mimetype": "text/x-python",
   "name": "python",
   "nbconvert_exporter": "python",
   "pygments_lexer": "ipython3",
   "version": "3.12.9"
  }
 },
 "nbformat": 4,
 "nbformat_minor": 2
}
