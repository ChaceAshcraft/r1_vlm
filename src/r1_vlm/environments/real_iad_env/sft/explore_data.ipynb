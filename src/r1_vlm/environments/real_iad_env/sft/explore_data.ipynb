{
 "cells": [
  {
   "cell_type": "code",
   "execution_count": 57,
   "metadata": {},
   "outputs": [],
   "source": [
    "# imports here\n",
    "import json\n",
    "from tqdm import tqdm\n",
    "from r1_vlm.environments.real_iad_env.completion_generation import setup_env, setup_model_and_processor, hash_example\n",
    "import matplotlib.pyplot as plt"
   ]
  },
  {
   "cell_type": "code",
   "execution_count": 50,
   "metadata": {},
   "outputs": [],
   "source": [
    "def load_completion_dataset(path:str = \"/millcreek/home/sunil/r1_vlm/src/r1_vlm/environments/real_iad_env/completion_results/completion_results.jsonl\"):\n",
    "    '''\n",
    "    Loads the completion dataset from the given path. Returns a dictionary of examples, mapping the image hash to the highest scoring completion for that image.\n",
    "    '''\n",
    "    \n",
    "    data = []\n",
    "    with open(path, \"r\") as f:\n",
    "        for line in tqdm(f):\n",
    "            data.append(json.loads(line.strip()))\n",
    "    \n",
    "    # maps the image hash to the examples that have that hash to organize the data\n",
    "    hash_to_examples = {}\n",
    "    \n",
    "    for example in data:\n",
    "        hash_value = example[\"image_hash\"]\n",
    "        \n",
    "        if hash_value not in hash_to_examples:\n",
    "            hash_to_examples[hash_value] = []\n",
    "        \n",
    "        hash_to_examples[hash_value].append(example)\n",
    "    \n",
    "    \n",
    "    filtered_data = {}\n",
    "        \n",
    "    # only keep the top scoring completion for each image\n",
    "    for hash_value, examples in hash_to_examples.items():\n",
    "        examples.sort(key=lambda x: x[\"reward\"], reverse=True)\n",
    "        filtered_data[hash_value] = examples[0]\n",
    "\n",
    "    return filtered_data"
   ]
  },
  {
   "cell_type": "code",
   "execution_count": 52,
   "metadata": {},
   "outputs": [
    {
     "name": "stderr",
     "output_type": "stream",
     "text": [
      "26821it [00:00, 36952.00it/s]\n"
     ]
    },
    {
     "name": "stdout",
     "output_type": "stream",
     "text": [
      "After balancing training split: label\n",
      "missing parts    385\n",
      "pit              308\n",
      "ok               306\n",
      "scratch          281\n",
      "contamination    253\n",
      "Name: count, dtype: int64\n"
     ]
    }
   ],
   "source": [
    "completion_dataset = load_completion_dataset()\n",
    "\n",
    "_, processor = setup_model_and_processor(checkpoint_path=\"/millcreek/home/sunil/r1_vlm/vlm-r1-real-iad-simple-env-budget-forcing-longer-ignore-strings/checkpoint-100\")\n",
    "\n",
    "env = setup_env(processor=processor)\n",
    "train_dataset, _ = env.get_dataset()"
   ]
  },
  {
   "cell_type": "code",
   "execution_count": 56,
   "metadata": {},
   "outputs": [
    {
     "name": "stderr",
     "output_type": "stream",
     "text": [
      "100%|██████████| 1533/1533 [01:04<00:00, 23.84it/s]"
     ]
    },
    {
     "name": "stdout",
     "output_type": "stream",
     "text": [
      "{'ok': 27, 'pit': 160, 'scratch': 132, 'missing parts': 195, 'contamination': 121}\n"
     ]
    },
    {
     "name": "stderr",
     "output_type": "stream",
     "text": [
      "\n"
     ]
    }
   ],
   "source": [
    "# determine how many completions we have per class\n",
    "counts = {}\n",
    "\n",
    "for example in tqdm(train_dataset):\n",
    "    label = example[\"label\"]\n",
    "    if label not in counts:\n",
    "        counts[label] = 0\n",
    "    \n",
    "    hash_value = hash_example(example)\n",
    "    if hash_value in completion_dataset:\n",
    "        counts[label] += 1\n",
    "   \n",
    "\n",
    "print(counts)\n",
    "\n",
    "    "
   ]
  },
  {
   "cell_type": "code",
   "execution_count": 58,
   "metadata": {},
   "outputs": [
    {
     "data": {
      "image/png": "[encoded data removed]",
      "text/plain": [
       "<Figure size 640x480 with 1 Axes>"
      ]
     },
     "metadata": {},
     "output_type": "display_data"
    }
   ],
   "source": [
    "rewards = []\n",
    "for example in completion_dataset.values():\n",
    "    rewards.append(example[\"reward\"])\n",
    "\n",
    "# plot a histogram of the rewards\n",
    "plt.hist(rewards, bins=100)\n",
    "plt.show()\n"
   ]
  },
  {
   "cell_type": "code",
   "execution_count": 59,
   "metadata": {},
   "outputs": [
    {
     "name": "stderr",
     "output_type": "stream",
     "text": [
      "100%|██████████| 1533/1533 [01:08<00:00, 22.28it/s]\n"
     ]
    }
   ],
   "source": [
    "# convert the training dataset to a dictionary mapping the image hash to the example so we can look up each example by image hash\n",
    "train_dataset_hash_to_example = {}\n",
    "for example in tqdm(train_dataset, desc=\"Hashing training dataset\"):\n",
    "    hash_value = hash_example(example)\n",
    "    train_dataset_hash_to_example[hash_value] = example\n",
    "\n",
    "\n"
   ]
  },
  {
   "cell_type": "code",
   "execution_count": 72,
   "metadata": {},
   "outputs": [
    {
     "name": "stdout",
     "output_type": "stream",
     "text": [
      "635\n"
     ]
    }
   ],
   "source": [
    "sft_examples = []\n",
    "for example in completion_dataset.values():\n",
    "    hash_value = example[\"image_hash\"]\n",
    "    train_example = train_dataset_hash_to_example[hash_value]\n",
    "    \n",
    "    messages = train_example[\"messages\"]\n",
    "    \n",
    "    # remove nonsense keys added by huggingface\n",
    "    for message in messages:\n",
    "            content = message[\"content\"]\n",
    "            message[\"content\"] = [\n",
    "                {k: v for k, v in item.items() if v is not None} for item in content\n",
    "            ]\n",
    "    \n",
    "    # add the assistant's completion to the messages\n",
    "    completion_message = example[\"completion_messages\"][0]\n",
    "    \n",
    "    # if the completion message ends in <|im_end|> then remove it\n",
    "    if completion_message[\"content\"][0][\"text\"].endswith(\"<|im_end|>\"):\n",
    "        completion_message[\"content\"][0][\"text\"] = completion_message[\"content\"][0][\"text\"].rstrip(\"<|im_end|>\")\n",
    "    \n",
    "    train_example[\"messages\"].append(completion_message)\n",
    "    \n",
    "    sft_example = {\"messages\": train_example[\"messages\"]}\n",
    "    \n",
    "    sft_examples.append(sft_example)\n",
    "    \n",
    "\n",
    "\n",
    "    \n",
    "\n",
    "\n"
   ]
  }
 ],
 "metadata": {
  "kernelspec": {
   "display_name": ".venv",
   "language": "python",
   "name": "python3"
  },
  "language_info": {
   "codemirror_mode": {
    "name": "ipython",
    "version": 3
   },
   "file_extension": ".py",
   "mimetype": "text/x-python",
   "name": "python",
   "nbconvert_exporter": "python",
   "pygments_lexer": "ipython3",
   "version": "3.12.9"
  }
 },
 "nbformat": 4,
 "nbformat_minor": 2
}
